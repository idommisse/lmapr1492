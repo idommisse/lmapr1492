{
 "cells": [
  {
   "cell_type": "code",
   "execution_count": 57,
   "metadata": {},
   "outputs": [],
   "source": [
    "\"\"\"téléchargement du fichier CIF et rédaction\"\"\"\n",
    "from pymatgen.ext.matproj import MPRester\n",
    "from pymatgen.io.cif import CifWriter\n",
    "\n",
    "with MPRester(\"5TRoGi3ks3zfqgmPsey1\") as m:\n",
    "    structure = m.get_structure_by_material_id(\"mp-754883\")\n",
    "    w = CifWriter(structure)\n",
    "    w.write_file('mystructure2.cif')"
   ]
  },
  {
   "cell_type": "code",
   "execution_count": 56,
   "metadata": {},
   "outputs": [
    {
     "name": "stdout",
     "output_type": "stream",
     "text": [
      "Réseau direct\n",
      "[{'material_id': 'mp-754883',\n",
      "  'structure': Structure Summary\n",
      "Lattice\n",
      "    abc : 6.566019280764934 6.566019280764934 6.566019325235927\n",
      " angles : 30.563547124671707 30.563547124671707 30.563544941240135\n",
      " volume : 64.88890056450505\n",
      "      A : 1.73058063 0.99915129 6.25455007\n",
      "      B : -1.73058063 0.99915129 6.25455007\n",
      "      C : 0.0 -1.99830258 6.25455007\n",
      "PeriodicSite: K (0.0000, 0.0000, 0.0000) [0.0000, 0.0000, 0.0000]\n",
      "PeriodicSite: Ho (0.0000, 0.0000, 9.3818) [0.5000, 0.5000, 0.5000]\n",
      "PeriodicSite: O (0.0000, 0.0000, 4.2792) [0.2281, 0.2281, 0.2281]\n",
      "PeriodicSite: O (0.0000, 0.0000, 14.4844) [0.7719, 0.7719, 0.7719]}]\n"
     ]
    }
   ],
   "source": [
    "\"\"\"Affichage du réseau direct à partir du CIF\"\"\"\n",
    "from pprint import pprint\n",
    "x =(\"Réseau direct\")\n",
    "print(x)\n",
    "pprint(m.get_data(\"mp-754883\", prop=\"structure\"))"
   ]
  },
  {
   "cell_type": "code",
   "execution_count": 55,
   "metadata": {},
   "outputs": [
    {
     "name": "stdout",
     "output_type": "stream",
     "text": [
      "Coordonnées des vecteurs de base du réseau direct\n",
      "1.730581 0.999151 6.254550\n",
      "-1.730581 0.999151 6.254550\n",
      "0.000000 -1.998303 6.254550\n"
     ]
    }
   ],
   "source": [
    "\"\"\"Affichage des coordonnées des vecteurs de base du réseau direct\"\"\"\n",
    "from pymatgen import Lattice as lattice\n",
    "y = (\"Coordonnées des vecteurs de base du réseau direct\")\n",
    "z = structure.lattice\n",
    "print(y)\n",
    "print(z)"
   ]
  },
  {
   "cell_type": "code",
   "execution_count": 52,
   "metadata": {},
   "outputs": [
    {
     "name": "stdout",
     "output_type": "stream",
     "text": [
      "Angles des vecteurs de base du réseau direct\n",
      "alpha= 30.563547124671707 ,beta= 30.563547124671707 ,gamma= 30.563544941240135\n",
      "\n",
      "\n",
      "Longueurs des vecteurs de base du réseau direct\n",
      "a= 6.566019280764934 ,b= 6.566019280764934 ,c= 6.566019325235927\n"
     ]
    }
   ],
   "source": [
    "x = (\"Angles des vecteurs de base du réseau direct\")\n",
    "print(x)\n",
    "alpha = structure.lattice.angles[0]\n",
    "beta = structure.lattice.angles[1]\n",
    "gamma = structure.lattice.angles[2]\n",
    "print(\"alpha=\",alpha, \",beta=\",beta, \",gamma=\",gamma)\n",
    "print('\\n')\n",
    "\n",
    "y = (\"Longueurs des vecteurs de base du réseau direct\")\n",
    "print(y)\n",
    "a = structure.lattice.lengths[0]\n",
    "b = structure.lattice.lengths[1]\n",
    "c = structure.lattice.lengths[2]\n",
    "print(\"a=\",a, \",b=\",b, \",c=\",c)"
   ]
  },
  {
   "cell_type": "code",
   "execution_count": 40,
   "metadata": {},
   "outputs": [
    {
     "name": "stdout",
     "output_type": "stream",
     "text": [
      "Réseau réciproque\n",
      "Lattice\n",
      "    abc : 2.122752255450751 2.122752255450751 2.122752255450751\n",
      " angles : 117.55975606907995 117.55975606907994 117.55975606907994\n",
      " volume : 3.822690814929771\n",
      "      A : 1.8818809559834018 -0.982141133202478 0.0\n",
      "      B : 0.0 2.122752255450751 0.0\n",
      "      C : -1.6204231736917898 -0.9821411332024783 0.9569245898479302\n"
     ]
    }
   ],
   "source": [
    "\"\"\"Calcul du réseau réciproque\"\"\"\n",
    "x = (\"Réseau réciproque\")\n",
    "print(x)\n",
    "r1 = lattice.rhombohedral(structure.lattice.lengths[0],structure.lattice.angles[0])\n",
    "pprint(r1.reciprocal_lattice)"
   ]
  },
  {
   "cell_type": "code",
   "execution_count": 22,
   "metadata": {},
   "outputs": [
    {
     "name": "stdout",
     "output_type": "stream",
     "text": [
      "Coordonnées des vecteurs de base du réseau réciproque\n",
      "1.815340 1.048087 0.334859\n",
      "-1.815340 1.048087 0.334859\n",
      "0.000000 -2.096174 0.334859\n"
     ]
    }
   ],
   "source": [
    "\"\"\"Calcul des coordonnées des vecteurs de base du réseau réciproque\"\"\"\n",
    "x = (\"Coordonnées des vecteurs de base du réseau réciproque\")\n",
    "y = structure.lattice.reciprocal_lattice\n",
    "print(x)\n",
    "print(y)"
   ]
  },
  {
   "cell_type": "code",
   "execution_count": 51,
   "metadata": {},
   "outputs": [
    {
     "name": "stdout",
     "output_type": "stream",
     "text": [
      "Angles des vecteurs de base du réseau réciproque\n",
      "alpha= 117.55975606907995 ,beta= 117.55975606907994 ,gamma= 117.55975606907994\n",
      "\n",
      "\n",
      "Longueurs des vecteurs de base du réseau réciproque\n",
      "a= 2.122752255450751 ,b= 2.122752255450751 ,c= 2.122752255450751\n"
     ]
    }
   ],
   "source": [
    "x = (\"Angles des vecteurs de base du réseau réciproque\")\n",
    "print(x)\n",
    "alpha = rreci.angles[0]\n",
    "beta = rreci.angles[1]\n",
    "gamma = rreci.angles[2]\n",
    "print(\"alpha=\",alpha, \",beta=\",beta, \",gamma=\",gamma)\n",
    "print('\\n')\n",
    "\n",
    "y = (\"Longueurs des vecteurs de base du réseau réciproque\")\n",
    "print(y)\n",
    "rreci = r1.reciprocal_lattice\n",
    "a = rreci.lengths[0]\n",
    "b = rreci.lengths[1]\n",
    "c = rreci.lengths[2]\n",
    "print(\"a=\",a, \",b=\",b, \",c=\",c)"
   ]
  },
  {
   "cell_type": "code",
   "execution_count": 29,
   "metadata": {},
   "outputs": [
    {
     "name": "stdout",
     "output_type": "stream",
     "text": [
      "Type de maille du matériau: rhombohedral\n"
     ]
    }
   ],
   "source": [
    "from pymatgen.symmetry.analyzer import SpacegroupAnalyzer\n",
    "x = (\"Type de maille du matériau:\")\n",
    "y = SpacegroupAnalyzer(structure)\n",
    "z = y.get_lattice_type() \n",
    "print(x, z)"
   ]
  },
  {
   "cell_type": "code",
   "execution_count": 28,
   "metadata": {},
   "outputs": [
    {
     "name": "stdout",
     "output_type": "stream",
     "text": [
      "Système cristallin: trigonal\n"
     ]
    }
   ],
   "source": [
    "x = (\"Système cristallin:\")\n",
    "z = y.get_crystal_system()\n",
    "print(x, z)"
   ]
  },
  {
   "cell_type": "code",
   "execution_count": 32,
   "metadata": {},
   "outputs": [
    {
     "name": "stdout",
     "output_type": "stream",
     "text": [
      "Groupe ponctuel: [{'spacegroup.point_group': '-3m'}]\n"
     ]
    }
   ],
   "source": [
    "\"\"\"Détermination du groupe ponctuel\"\"\"\n",
    "p = m.query(criteria={\"task_id\":{\"$in\":[\"mp-754883\"]}}, properties=[\"spacegroup.point_group\"])\n",
    "y =(\"Groupe ponctuel:\")\n",
    "print(y, p)"
   ]
  },
  {
   "cell_type": "code",
   "execution_count": null,
   "metadata": {},
   "outputs": [],
   "source": []
  }
 ],
 "metadata": {
  "kernelspec": {
   "display_name": "Python 3",
   "language": "python",
   "name": "python3"
  },
  "language_info": {
   "codemirror_mode": {
    "name": "ipython",
    "version": 3
   },
   "file_extension": ".py",
   "mimetype": "text/x-python",
   "name": "python",
   "nbconvert_exporter": "python",
   "pygments_lexer": "ipython3",
   "version": "3.6.8"
  }
 },
 "nbformat": 4,
 "nbformat_minor": 2
}
