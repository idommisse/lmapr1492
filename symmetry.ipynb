{
 "cells": [
  {
   "cell_type": "code",
   "execution_count": 61,
   "metadata": {},
   "outputs": [],
   "source": [
    "from pymatgen.ext.matproj import MPRester\n",
    "from pymatgen.io.cif import CifWriter\n",
    "\n",
    "with MPRester(\"5TRoGi3ks3zfqgmPsey1\") as m:\n",
    "    structure = m.get_structure_by_material_id(\"mp-754883\")\n",
    "    w = CifWriter(structure)\n",
    "    w.write_file('mystructure.cif')"
   ]
  },
  {
   "cell_type": "code",
   "execution_count": 62,
   "metadata": {},
   "outputs": [],
   "source": [
    "from pymatgen.core.operations import SymmOp\n",
    "import numpy as np\n",
    "from IPython.display import Markdown, display\n",
    "def printmd(string):\n",
    "    display(Markdown(string))"
   ]
  },
  {
   "cell_type": "code",
   "execution_count": 63,
   "metadata": {},
   "outputs": [
    {
     "data": {
      "text/markdown": [
       "**Première opération de symétrie: rotation d ordre 3**"
      ],
      "text/plain": [
       "<IPython.core.display.Markdown object>"
      ]
     },
     "metadata": {},
     "output_type": "display_data"
    }
   ],
   "source": [
    "printmd('**Première opération de symétrie: rotation d ordre 3**')"
   ]
  },
  {
   "cell_type": "markdown",
   "metadata": {},
   "source": [
    "Correspond au 3ème élément de symétrie dans le CIF. Cette opération envoie un atome situé en (x,y,z) vers une position (-y,x-y,z) par une rotation autour de l'axe c. Cette opération peut être représentée par une matrice de rotation qui sera appliquée sur le vecteur position initiale de l'atome (x,y,z)."
   ]
  },
  {
   "cell_type": "code",
   "execution_count": 64,
   "metadata": {},
   "outputs": [
    {
     "name": "stdout",
     "output_type": "stream",
     "text": [
      "La matrice de rotation associée à cette opération est:\n",
      "[[ 0. -1.  0.]\n",
      " [ 1. -1.  0.]\n",
      " [ 0.  0.  1.]]\n"
     ]
    }
   ],
   "source": [
    "print('La matrice de rotation associée à cette opération est:')\n",
    "op1 = SymmOp.from_xyz_string('-y, x-y, z')\n",
    "print(op1.rotation_matrix)"
   ]
  },
  {
   "cell_type": "markdown",
   "metadata": {},
   "source": [
    "La relation finale est alors obtenue:"
   ]
  },
  {
   "cell_type": "markdown",
   "metadata": {},
   "source": [
    "![](C3m.PNG)"
   ]
  },
  {
   "cell_type": "code",
   "execution_count": 65,
   "metadata": {},
   "outputs": [
    {
     "name": "stdout",
     "output_type": "stream",
     "text": [
      "Rotation C3 pour un atome de potassium dont la position initiale (x, y, z) est donnée par (2/3, 1/3, 1/3):\n",
      "[-0.33333333  0.33333333  0.33333333]\n"
     ]
    }
   ],
   "source": [
    "print('Rotation C3 pour un atome de potassium dont la position initiale (x, y, z) est donnée par (2/3, 1/3, 1/3):')\n",
    "print(op1.operate((2/3,1/3,1/3)))"
   ]
  },
  {
   "cell_type": "markdown",
   "metadata": {},
   "source": [
    "L'image ci-dessous montre l'effet de cette rotation sur l'atome potassium. On voit bien que celui-ci effectue une rotation autour de l'axe c, qui est l'axe de base de la maille conventionnelle. Cet axe de rotation C3 dans la direction [001] est bien représenté sur l'image par une flèche rouge."
   ]
  },
  {
   "cell_type": "markdown",
   "metadata": {},
   "source": [
    "![](rot.PNG)"
   ]
  },
  {
   "cell_type": "code",
   "execution_count": 66,
   "metadata": {},
   "outputs": [
    {
     "data": {
      "text/markdown": [
       "**Deuxième opération de symétrie: réflexion d un atome par rapport à un plan miroir**"
      ],
      "text/plain": [
       "<IPython.core.display.Markdown object>"
      ]
     },
     "metadata": {},
     "output_type": "display_data"
    }
   ],
   "source": [
    "printmd('**Deuxième opération de symétrie: réflexion d un atome par rapport à un plan miroir**')"
   ]
  },
  {
   "cell_type": "markdown",
   "metadata": {},
   "source": [
    "Correspond à l'élément de symétrie numéro 8 dans le CIF. Cette opération envoie un atome situé en (x,y,z) vers une position (-y,-x,z) par l'application d'un plan miroir m passant par l'origine. Cette opération peut être représentée par une matrice de rotation qui sera appliquée sur le vecteur position initiale de l'atome (x,y,z)."
   ]
  },
  {
   "cell_type": "code",
   "execution_count": 67,
   "metadata": {},
   "outputs": [
    {
     "name": "stdout",
     "output_type": "stream",
     "text": [
      "La matrice de rotation associée à cette opération est:\n",
      "[[ 0. -1.  0.]\n",
      " [-1.  0.  0.]\n",
      " [ 0.  0.  1.]]\n"
     ]
    }
   ],
   "source": [
    "print('La matrice de rotation associée à cette opération est:')\n",
    "op2 = SymmOp.from_xyz_string('-y, -x, z')\n",
    "print(op2.rotation_matrix)"
   ]
  },
  {
   "cell_type": "markdown",
   "metadata": {},
   "source": [
    "La relation finale est alors obtenue:"
   ]
  },
  {
   "cell_type": "markdown",
   "metadata": {},
   "source": [
    "![](pm.PNG)"
   ]
  },
  {
   "cell_type": "code",
   "execution_count": 68,
   "metadata": {},
   "outputs": [
    {
     "name": "stdout",
     "output_type": "stream",
     "text": [
      "Application du plan miroir m à un atome d holmium dont la position initiale (x, y, z) est donnée par (2/3, 1/3, 0.83):\n",
      "[-0.33333333 -0.66666667  0.83      ]\n"
     ]
    }
   ],
   "source": [
    "print('Application du plan miroir m à un atome d holmium dont la position initiale (x, y, z) est donnée par (2/3, 1/3, 0.83):')\n",
    "print(op2.operate((2/3,1/3,0.83)))"
   ]
  },
  {
   "cell_type": "markdown",
   "metadata": {},
   "source": [
    "L'image ci-dessous montre l'effet du plan miroir sur l'atome d'holmium. On voit bien la symétrie entre l'atome initial et son image, imposée par le plan miroir (représenté en vert)."
   ]
  },
  {
   "cell_type": "markdown",
   "metadata": {},
   "source": [
    "![](P.PNG)\n"
   ]
  },
  {
   "cell_type": "code",
   "execution_count": 69,
   "metadata": {},
   "outputs": [
    {
     "data": {
      "text/markdown": [
       "**Troisième opération de symétrie: translation d un atome**"
      ],
      "text/plain": [
       "<IPython.core.display.Markdown object>"
      ]
     },
     "metadata": {},
     "output_type": "display_data"
    }
   ],
   "source": [
    "printmd('**Troisième opération de symétrie: translation d un atome**')"
   ]
  },
  {
   "cell_type": "markdown",
   "metadata": {},
   "source": [
    "Correspond à l'élément de symétrie numéro 13 dans le CIF. Cette opération envoie un atome situé en (x,y,z) vers une position (x-1/3,y+1/3,z+1/3) par une translation de l'atome concerné. Cette opération peut être représentée par la combinaison d'une matrice de rotation qui sera appliquée sur le vecteur position initiale de l'atome (x,y,z) et d'un vecteur de translation."
   ]
  },
  {
   "cell_type": "code",
   "execution_count": 70,
   "metadata": {},
   "outputs": [
    {
     "name": "stdout",
     "output_type": "stream",
     "text": [
      "La matrice de rotation associée à cette opération est:\n",
      "[[1. 0. 0.]\n",
      " [0. 1. 0.]\n",
      " [0. 0. 1.]]\n",
      " \n",
      "Le vecteur de translation associé à cette opération est:\n",
      "[-0.33333333  0.33333333  0.33333333]\n"
     ]
    }
   ],
   "source": [
    "print('La matrice de rotation associée à cette opération est:')\n",
    "op3 = SymmOp.from_xyz_string('x-1/3, y+1/3, z+1/3')\n",
    "print(op3.rotation_matrix)\n",
    "print(' ')\n",
    "print('Le vecteur de translation associé à cette opération est:')\n",
    "print(op3.translation_vector)"
   ]
  },
  {
   "cell_type": "markdown",
   "metadata": {},
   "source": [
    "La relation finale est alors obtenue:"
   ]
  },
  {
   "cell_type": "markdown",
   "metadata": {},
   "source": [
    "![](Trm.PNG)\n"
   ]
  },
  {
   "cell_type": "code",
   "execution_count": 71,
   "metadata": {},
   "outputs": [
    {
     "name": "stdout",
     "output_type": "stream",
     "text": [
      "Application de l opération de translation à un atome d oxygène dont la position initiale (x, y, z) est donnée par (2/3, 1/3, 0.56):\n",
      "[0.33333333 0.66666667 0.89333333]\n"
     ]
    }
   ],
   "source": [
    "print('Application de l opération de translation à un atome d oxygène dont la position initiale (x, y, z) est donnée par (2/3, 1/3, 0.56):')\n",
    "print(op3.operate((2/3,1/3,0.56)))"
   ]
  },
  {
   "cell_type": "markdown",
   "metadata": {},
   "source": [
    "L'image ci-dessous montre l'effet la translation sur l'atome d'oxygène. L'application de l'opération translation est illustrée par la flèche jaune. On remarque bien que sa position a changé selon les trois axes de base de la maille conventionnelle. "
   ]
  },
  {
   "cell_type": "markdown",
   "metadata": {},
   "source": [
    "![](Tr.PNG)"
   ]
  },
  {
   "cell_type": "code",
   "execution_count": null,
   "metadata": {},
   "outputs": [],
   "source": []
  }
 ],
 "metadata": {
  "kernelspec": {
   "display_name": "Python 3",
   "language": "python",
   "name": "python3"
  },
  "language_info": {
   "codemirror_mode": {
    "name": "ipython",
    "version": 3
   },
   "file_extension": ".py",
   "mimetype": "text/x-python",
   "name": "python",
   "nbconvert_exporter": "python",
   "pygments_lexer": "ipython3",
   "version": "3.6.8"
  }
 },
 "nbformat": 4,
 "nbformat_minor": 2
}
